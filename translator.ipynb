{
 "cells": [
  {
   "cell_type": "code",
   "execution_count": null,
   "id": "c4c20f07",
   "metadata": {},
   "outputs": [],
   "source": [
    "#------ ASLTransalator 1.0 ---------"
   ]
  },
  {
   "cell_type": "code",
   "execution_count": 1,
   "id": "ef47b30c",
   "metadata": {},
   "outputs": [
    {
     "name": "stdout",
     "output_type": "stream",
     "text": [
      "Defaulting to user installation because normal site-packages is not writeable\n",
      "Requirement already satisfied: google-genai in c:\\users\\morgan\\appdata\\roaming\\python\\python311\\site-packages (1.45.0)\n",
      "Requirement already satisfied: watchdog in c:\\programdata\\anaconda3\\lib\\site-packages (2.1.6)\n",
      "Requirement already satisfied: anyio<5.0.0,>=4.8.0 in c:\\users\\morgan\\appdata\\roaming\\python\\python311\\site-packages (from google-genai) (4.11.0)\n",
      "Requirement already satisfied: google-auth<3.0.0,>=2.14.1 in c:\\users\\morgan\\appdata\\roaming\\python\\python311\\site-packages (from google-genai) (2.41.1)\n",
      "Requirement already satisfied: httpx<1.0.0,>=0.28.1 in c:\\users\\morgan\\appdata\\roaming\\python\\python311\\site-packages (from google-genai) (0.28.1)\n",
      "Requirement already satisfied: pydantic<3.0.0,>=2.0.0 in c:\\users\\morgan\\appdata\\roaming\\python\\python311\\site-packages (from google-genai) (2.12.2)\n",
      "Requirement already satisfied: requests<3.0.0,>=2.28.1 in c:\\users\\morgan\\appdata\\roaming\\python\\python311\\site-packages (from google-genai) (2.32.5)\n",
      "Requirement already satisfied: tenacity<9.2.0,>=8.2.3 in c:\\users\\morgan\\appdata\\roaming\\python\\python311\\site-packages (from google-genai) (9.1.2)\n",
      "Requirement already satisfied: websockets<15.1.0,>=13.0.0 in c:\\users\\morgan\\appdata\\roaming\\python\\python311\\site-packages (from google-genai) (15.0.1)\n",
      "Requirement already satisfied: typing-extensions<5.0.0,>=4.11.0 in c:\\users\\morgan\\appdata\\roaming\\python\\python311\\site-packages (from google-genai) (4.15.0)\n",
      "Requirement already satisfied: idna>=2.8 in c:\\programdata\\anaconda3\\lib\\site-packages (from anyio<5.0.0,>=4.8.0->google-genai) (3.4)\n",
      "Requirement already satisfied: sniffio>=1.1 in c:\\programdata\\anaconda3\\lib\\site-packages (from anyio<5.0.0,>=4.8.0->google-genai) (1.3.0)\n",
      "Requirement already satisfied: cachetools<7.0,>=2.0.0 in c:\\programdata\\anaconda3\\lib\\site-packages (from google-auth<3.0.0,>=2.14.1->google-genai) (4.2.2)\n",
      "Requirement already satisfied: pyasn1-modules>=0.2.1 in c:\\programdata\\anaconda3\\lib\\site-packages (from google-auth<3.0.0,>=2.14.1->google-genai) (0.2.8)\n",
      "Requirement already satisfied: rsa<5,>=3.1.4 in c:\\users\\morgan\\appdata\\roaming\\python\\python311\\site-packages (from google-auth<3.0.0,>=2.14.1->google-genai) (4.9.1)\n",
      "Requirement already satisfied: certifi in c:\\programdata\\anaconda3\\lib\\site-packages (from httpx<1.0.0,>=0.28.1->google-genai) (2024.7.4)\n",
      "Requirement already satisfied: httpcore==1.* in c:\\programdata\\anaconda3\\lib\\site-packages (from httpx<1.0.0,>=0.28.1->google-genai) (1.0.2)\n",
      "Requirement already satisfied: h11<0.15,>=0.13 in c:\\programdata\\anaconda3\\lib\\site-packages (from httpcore==1.*->httpx<1.0.0,>=0.28.1->google-genai) (0.14.0)\n",
      "Requirement already satisfied: annotated-types>=0.6.0 in c:\\users\\morgan\\appdata\\roaming\\python\\python311\\site-packages (from pydantic<3.0.0,>=2.0.0->google-genai) (0.7.0)\n",
      "Requirement already satisfied: pydantic-core==2.41.4 in c:\\users\\morgan\\appdata\\roaming\\python\\python311\\site-packages (from pydantic<3.0.0,>=2.0.0->google-genai) (2.41.4)\n",
      "Requirement already satisfied: typing-inspection>=0.4.2 in c:\\users\\morgan\\appdata\\roaming\\python\\python311\\site-packages (from pydantic<3.0.0,>=2.0.0->google-genai) (0.4.2)\n",
      "Requirement already satisfied: charset_normalizer<4,>=2 in c:\\programdata\\anaconda3\\lib\\site-packages (from requests<3.0.0,>=2.28.1->google-genai) (2.0.4)\n",
      "Requirement already satisfied: urllib3<3,>=1.21.1 in c:\\programdata\\anaconda3\\lib\\site-packages (from requests<3.0.0,>=2.28.1->google-genai) (2.0.7)\n",
      "Requirement already satisfied: pyasn1<0.5.0,>=0.4.6 in c:\\programdata\\anaconda3\\lib\\site-packages (from pyasn1-modules>=0.2.1->google-auth<3.0.0,>=2.14.1->google-genai) (0.4.8)\n",
      "Note: you may need to restart the kernel to use updated packages.\n"
     ]
    }
   ],
   "source": [
    "# Libraries\n",
    "%pip install google-genai watchdog"
   ]
  },
  {
   "cell_type": "code",
   "execution_count": 2,
   "id": "5897c69a",
   "metadata": {},
   "outputs": [],
   "source": [
    "# Imports\n",
    "import os\n",
    "import time\n",
    "from watchdog.observers import Observer\n",
    "from watchdog.events import FileSystemEventHandler\n",
    "from google import genai\n",
    "from google.genai import types\n",
    "from datetime import datetime, timedelta"
   ]
  },
  {
   "cell_type": "code",
   "execution_count": null,
   "id": "99278b10",
   "metadata": {},
   "outputs": [],
   "source": [
    "# Gemini API Key\n",
    "YOUR_API_KEY = \"\"\n",
    "client = genai.Client(api_key=YOUR_API_KEY)"
   ]
  },
  {
   "cell_type": "code",
   "execution_count": 4,
   "id": "f42552e4",
   "metadata": {},
   "outputs": [
    {
     "name": "stdout",
     "output_type": "stream",
     "text": [
      "Created file: input.txt\n"
     ]
    }
   ],
   "source": [
    "# Create Test File for input\n",
    "input_filename = \"input.txt\"\n",
    "\n",
    "with open(input_filename, \"w\", encoding=\"utf-8\") as f:\n",
    "    f.write(\"The duck quacked.\\n\")\n",
    "    f.write(\"We are using the Gemini API for this project.\\n\")\n",
    "    f.write(\"This notebook provides a great environment for prototyping.\\n\")\n",
    "\n",
    "print(f\"Created file: {input_filename}\")"
   ]
  },
  {
   "cell_type": "code",
   "execution_count": 5,
   "id": "ea6e409c",
   "metadata": {},
   "outputs": [],
   "source": [
    "# Configs\n",
    "model_name = \"gemini-2.5-flash\"  # Fast and capable model for translation\n",
    "output_filename = \"gemini_output_log.txt\""
   ]
  },
  {
   "cell_type": "code",
   "execution_count": 6,
   "id": "d08dea19",
   "metadata": {},
   "outputs": [
    {
     "name": "stdout",
     "output_type": "stream",
     "text": [
      "Sending content of 'input.txt' to Gemini...\n",
      "Translation received. Writing to file...\n",
      "Translation:\n",
      "DUCK QUACK. THIS PROJECT, WE USE GEMINI API. THIS NOTEBOOK, GOOD ENVIRONMENT PROTOTYPE.\n"
     ]
    }
   ],
   "source": [
    "## Read input \n",
    "try:\n",
    "    with open(input_filename, \"r\", encoding=\"utf-8\") as f:\n",
    "        file_content = f.read()\n",
    "except FileNotFoundError:\n",
    "    print(f\"Error: Input file '{input_filename}' not found.\")\n",
    "    exit()\n",
    "\n",
    "# 2. Craft the translation prompt\n",
    "# Using a clear system instruction and user prompt ensures high quality and clean output.\n",
    "system_instruction = f\"You are an expert ASL translator who translates textual and spoken English input into ASL gloss. Do not include any extra commentary, headers, or surrounding text; only provide the translated text.\"\n",
    "\n",
    "prompt = f\"Translate the following text into ASL gloss:\\n\\n---\\n{file_content}\\n---\"\n",
    "\n",
    "print(f\"Sending content of '{input_filename}' to Gemini...\")\n",
    "\n",
    "# 3. Call the Gemini API\n",
    "response = client.models.generate_content(\n",
    "    model=model_name,\n",
    "    contents=prompt,\n",
    "    config={\n",
    "        \"system_instruction\": system_instruction\n",
    "    }\n",
    ")\n",
    "\n",
    "# 4. Extract the translated text\n",
    "translated_text = response.text.strip()\n",
    "\n",
    "print(\"Translation received. Writing to file...\")\n",
    "\n",
    "# 5. Write the translated text to the output file\n",
    "with open(output_filename, \"w\", encoding=\"utf-8\") as f:\n",
    "    f.write(translated_text)\n",
    "\n",
    "print(f\"Translation:\\n{translated_text}\")"
   ]
  },
  {
   "cell_type": "code",
   "execution_count": null,
   "id": "d4a451f5",
   "metadata": {},
   "outputs": [
    {
     "name": "stdout",
     "output_type": "stream",
     "text": [
      "\n",
      "*** Watchdog is RUNNING ***\n",
      "   Monitoring directory: C:\\Users\\Morgan\\Downloads\\fall_25\\Capstone1\\ASL-Robot\n",
      "   Target file:          input.txt\n",
      "-> Change detected in: input.txt. Processing...\n",
      "<- Successfully processed and logged output to: C:\\Users\\Morgan\\Downloads\\fall_25\\Capstone1\\ASL-Robot\\OutputFiles\\gemini_output_log.txt\n",
      "-> Change detected in: input.txt. Processing...\n",
      "<- Successfully processed and logged output to: C:\\Users\\Morgan\\Downloads\\fall_25\\Capstone1\\ASL-Robot\\OutputFiles\\gemini_output_log.txt\n",
      "\n",
      "Watchdog stopped by user (Ctrl+C).\n"
     ]
    }
   ],
   "source": [
    "WATCH_DIRECTORY = r\"C:\\Users\\Morgan\\Downloads\\fall_25\\Capstone1\\ASL-Robot\\InputFiles\"\n",
    "OUTPUT_DIRECTORY = r\"C:\\Users\\Morgan\\Downloads\\fall_25\\Capstone1\\ASL-Robot\\OutputFiles\"\n",
    "\n",
    "\n",
    "TARGET_FILE_NAME = \"input.txt\" \n",
    "OUTPUT_DIRECTORY =  r\"C:\\Users\\Morgan\\Downloads\\fall_25\\Capstone1\\ASL-Robot\\OutputFiles\"\n",
    "\n",
    "\n",
    "def process_text_change(file_path):\n",
    "    \"\"\"\n",
    "    Reads the text content of the modified file and processes it with Gemini.\n",
    "    \"\"\"\n",
    "    print(f\"-> Change detected in: {TARGET_FILE_NAME}. Processing...\")\n",
    "    \n",
    "    try:\n",
    "        # 1. Read the LATEST content of the file\n",
    "        with open(file_path, 'r', encoding='utf-8') as f:\n",
    "            content = f.read().strip() # .strip() removes leading/trailing whitespace\n",
    "\n",
    "        if not content:\n",
    "            print(\"!! File is empty after modification. Skipping AI call.\")\n",
    "            return\n",
    "\n",
    "        system_instruction = f\"You are an expert ASL translator who translates textual and spoken English input into ASL gloss. Do not include any extra commentary, headers, or surrounding text; only provide the translated text.\"\n",
    "\n",
    "        prompt = f\"Translate the following text into ASL gloss:\\n\\n---\\n{content}\\n---\"\n",
    "\n",
    "        # 3. Call the Gemini API\n",
    "        response = client.models.generate_content(\n",
    "            model=model_name,\n",
    "            contents=prompt,\n",
    "            config={\n",
    "                \"system_instruction\": system_instruction\n",
    "            }\n",
    "        )\n",
    "        # 4. Save the Output to a Log\n",
    "        output_filename = os.path.join(OUTPUT_DIRECTORY, \"gemini_output_log.txt\")\n",
    "        \n",
    "        # Open in append mode ('a') to keep a history of all changes\n",
    "        with open(output_filename, 'a', encoding='utf-8') as outfile:\n",
    "            outfile.write(f\"\\n{response.text}\\n\")\n",
    "            \n",
    "        print(f\"<- Successfully processed and logged output to: {output_filename}\")\n",
    "        \n",
    "    except Exception as e:\n",
    "        print(f\"!! An error occurred while processing {file_path}: {e}\")\n",
    "\n",
    "# ----------------------------------------------------------------------\n",
    "\n",
    "class TextChangeHandler(FileSystemEventHandler):\n",
    "    \"\"\"\n",
    "    Custom handler to process the modified file.\n",
    "    \"\"\"\n",
    "    def on_modified(self, event):\n",
    "        # We only care about file modification events (not directory changes)\n",
    "        if not event.is_directory:\n",
    "            file_path = event.src_path\n",
    "            \n",
    "            # CRITICAL: Only process the TARGET file\n",
    "            if os.path.basename(file_path).lower() == TARGET_FILE_NAME.lower():\n",
    "                # Introduce a small delay (0.5s) to ensure the file save operation is complete\n",
    "                time.sleep(0.5) \n",
    "                process_text_change(file_path)\n",
    "\n",
    "# --- Main Execution Loop ---\n",
    "if __name__ == \"__main__\":\n",
    "    \n",
    "    # 🚨 Initial check for the input file\n",
    "    input_file_path = os.path.join(WATCH_DIRECTORY, TARGET_FILE_NAME)\n",
    "    if not os.path.exists(input_file_path):\n",
    "        print(f\"!! WARNING: Input file '{TARGET_FILE_NAME}' not found in '{WATCH_DIRECTORY}'.\")\n",
    "        print(\"!! Please create the file to start monitoring.\")\n",
    "\n",
    "    event_handler = TextChangeHandler()\n",
    "    observer = Observer()\n",
    "    \n",
    "    # Schedule the handler to monitor the directory non-recursively\n",
    "    observer.schedule(event_handler, WATCH_DIRECTORY, recursive=False)\n",
    "    \n",
    "    # Start the observer thread\n",
    "    observer.start()\n",
    "    \n",
    "    print(f\"\\n*** Watchdog is RUNNING ***\")\n",
    "    print(f\"   Monitoring directory: {WATCH_DIRECTORY}\")\n",
    "    print(f\"   Target file:          {TARGET_FILE_NAME}\")\n",
    "    \n",
    "    try:\n",
    "        # Keep the main thread alive until interrupted\n",
    "        while True:\n",
    "            time.sleep(10)\n",
    "    except KeyboardInterrupt:\n",
    "        observer.stop()\n",
    "        print(\"\\nWatchdog stopped by user (Ctrl+C).\")\n",
    "        \n",
    "    observer.join()"
   ]
  }
 ],
 "metadata": {
  "kernelspec": {
   "display_name": "base",
   "language": "python",
   "name": "python3"
  },
  "language_info": {
   "codemirror_mode": {
    "name": "ipython",
    "version": 3
   },
   "file_extension": ".py",
   "mimetype": "text/x-python",
   "name": "python",
   "nbconvert_exporter": "python",
   "pygments_lexer": "ipython3",
   "version": "3.11.7"
  }
 },
 "nbformat": 4,
 "nbformat_minor": 5
}
